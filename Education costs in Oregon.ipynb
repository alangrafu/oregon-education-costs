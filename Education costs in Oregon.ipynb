{
 "cells": [
  {
   "cell_type": "markdown",
   "metadata": {},
   "source": [
    "# Understanding Average Cost Per Student by Oregon District"
   ]
  },
  {
   "cell_type": "code",
   "execution_count": 1,
   "metadata": {
    "collapsed": false
   },
   "outputs": [],
   "source": [
    "# pandas is used for structured data and manipulations. \n",
    "# pandas is extensively used for data munging and preparations. \n",
    "# matplotlib is for plotting graps. \n",
    "\n",
    "import pandas as pd\n",
    "import numpy as np\n",
    "import matplotlib.pyplot as plt"
   ]
  },
  {
   "cell_type": "markdown",
   "metadata": {},
   "source": [
    "## Load the data"
   ]
  },
  {
   "cell_type": "code",
   "execution_count": 2,
   "metadata": {
    "collapsed": false
   },
   "outputs": [],
   "source": [
    "# importing data from the csv file as a pandas dataframe \n",
    "df = pd.read_csv(\"./Average_Cost_Per_Student_by_District.csv\")"
   ]
  },
  {
   "cell_type": "markdown",
   "metadata": {},
   "source": [
    "## Clean up the data"
   ]
  },
  {
   "cell_type": "code",
   "execution_count": 3,
   "metadata": {
    "collapsed": false
   },
   "outputs": [
    {
     "data": {
      "text/html": [
       "<div>\n",
       "<table border=\"1\" class=\"dataframe\">\n",
       "  <thead>\n",
       "    <tr style=\"text-align: right;\">\n",
       "      <th></th>\n",
       "      <th>District ID</th>\n",
       "      <th>District Number</th>\n",
       "      <th>Operating Cost Per Student</th>\n",
       "      <th>County Name</th>\n",
       "    </tr>\n",
       "  </thead>\n",
       "  <tbody>\n",
       "    <tr>\n",
       "      <th>141</th>\n",
       "      <td>1894</td>\n",
       "      <td>Baker SD 5J</td>\n",
       "      <td>$8409.51</td>\n",
       "      <td>BAKER</td>\n",
       "    </tr>\n",
       "    <tr>\n",
       "      <th>285</th>\n",
       "      <td>1894</td>\n",
       "      <td>BAKER SCH DIST 05J</td>\n",
       "      <td>$7075.92</td>\n",
       "      <td>BAKER</td>\n",
       "    </tr>\n",
       "    <tr>\n",
       "      <th>349</th>\n",
       "      <td>1895</td>\n",
       "      <td>Huntington SD 16J</td>\n",
       "      <td>$16823.34</td>\n",
       "      <td>BAKER</td>\n",
       "    </tr>\n",
       "    <tr>\n",
       "      <th>65</th>\n",
       "      <td>1895</td>\n",
       "      <td>HUNTINGTON SCH DIST 16J</td>\n",
       "      <td>$13959.30</td>\n",
       "      <td>BAKER</td>\n",
       "    </tr>\n",
       "    <tr>\n",
       "      <th>108</th>\n",
       "      <td>1896</td>\n",
       "      <td>Burnt River SD 30J</td>\n",
       "      <td>$18012.26</td>\n",
       "      <td>BAKER</td>\n",
       "    </tr>\n",
       "    <tr>\n",
       "      <th>82</th>\n",
       "      <td>1897</td>\n",
       "      <td>Pine Eagle SD 61</td>\n",
       "      <td>$14808.47</td>\n",
       "      <td>BAKER</td>\n",
       "    </tr>\n",
       "    <tr>\n",
       "      <th>216</th>\n",
       "      <td>1897</td>\n",
       "      <td>PINE-EAGLE SCH DIST 061</td>\n",
       "      <td>$11780.16</td>\n",
       "      <td>BAKER</td>\n",
       "    </tr>\n",
       "    <tr>\n",
       "      <th>31</th>\n",
       "      <td>1898</td>\n",
       "      <td>MONROE SCH DIST 1J</td>\n",
       "      <td>$7345.39</td>\n",
       "      <td>BENTON</td>\n",
       "    </tr>\n",
       "    <tr>\n",
       "      <th>317</th>\n",
       "      <td>1898</td>\n",
       "      <td>Monroe SD 1J</td>\n",
       "      <td>$10191.02</td>\n",
       "      <td>BENTON</td>\n",
       "    </tr>\n",
       "    <tr>\n",
       "      <th>327</th>\n",
       "      <td>1899</td>\n",
       "      <td>ALSEA SCH DIST 7J</td>\n",
       "      <td>$9717.44</td>\n",
       "      <td>BENTON</td>\n",
       "    </tr>\n",
       "  </tbody>\n",
       "</table>\n",
       "</div>"
      ],
      "text/plain": [
       "     District ID          District Number Operating Cost Per Student  \\\n",
       "141         1894              Baker SD 5J                   $8409.51   \n",
       "285         1894       BAKER SCH DIST 05J                   $7075.92   \n",
       "349         1895        Huntington SD 16J                  $16823.34   \n",
       "65          1895  HUNTINGTON SCH DIST 16J                  $13959.30   \n",
       "108         1896       Burnt River SD 30J                  $18012.26   \n",
       "82          1897         Pine Eagle SD 61                  $14808.47   \n",
       "216         1897  PINE-EAGLE SCH DIST 061                  $11780.16   \n",
       "31          1898       MONROE SCH DIST 1J                   $7345.39   \n",
       "317         1898             Monroe SD 1J                  $10191.02   \n",
       "327         1899        ALSEA SCH DIST 7J                   $9717.44   \n",
       "\n",
       "    County Name  \n",
       "141       BAKER  \n",
       "285       BAKER  \n",
       "349       BAKER  \n",
       "65        BAKER  \n",
       "108       BAKER  \n",
       "82        BAKER  \n",
       "216       BAKER  \n",
       "31       BENTON  \n",
       "317      BENTON  \n",
       "327      BENTON  "
      ]
     },
     "execution_count": 3,
     "metadata": {},
     "output_type": "execute_result"
    }
   ],
   "source": [
    "# head() allows you to quickly look at the top n rows of the dataframe \n",
    "df.sort_values('District ID').head(10)"
   ]
  },
  {
   "cell_type": "code",
   "execution_count": 4,
   "metadata": {
    "collapsed": false
   },
   "outputs": [
    {
     "data": {
      "text/html": [
       "<div>\n",
       "<table border=\"1\" class=\"dataframe\">\n",
       "  <thead>\n",
       "    <tr style=\"text-align: right;\">\n",
       "      <th></th>\n",
       "      <th>District ID</th>\n",
       "      <th>District Number</th>\n",
       "      <th>Operating Cost Per Student</th>\n",
       "      <th>County Name</th>\n",
       "    </tr>\n",
       "  </thead>\n",
       "  <tbody>\n",
       "    <tr>\n",
       "      <th>141</th>\n",
       "      <td>1894</td>\n",
       "      <td>BAKER SD 5J</td>\n",
       "      <td>8409.51</td>\n",
       "      <td>BAKER</td>\n",
       "    </tr>\n",
       "    <tr>\n",
       "      <th>285</th>\n",
       "      <td>1894</td>\n",
       "      <td>BAKER SCH DIST 05J</td>\n",
       "      <td>7075.92</td>\n",
       "      <td>BAKER</td>\n",
       "    </tr>\n",
       "    <tr>\n",
       "      <th>349</th>\n",
       "      <td>1895</td>\n",
       "      <td>HUNTINGTON SD 16J</td>\n",
       "      <td>16823.34</td>\n",
       "      <td>BAKER</td>\n",
       "    </tr>\n",
       "    <tr>\n",
       "      <th>65</th>\n",
       "      <td>1895</td>\n",
       "      <td>HUNTINGTON SCH DIST 16J</td>\n",
       "      <td>13959.30</td>\n",
       "      <td>BAKER</td>\n",
       "    </tr>\n",
       "    <tr>\n",
       "      <th>108</th>\n",
       "      <td>1896</td>\n",
       "      <td>BURNT RIVER SD 30J</td>\n",
       "      <td>18012.26</td>\n",
       "      <td>BAKER</td>\n",
       "    </tr>\n",
       "    <tr>\n",
       "      <th>82</th>\n",
       "      <td>1897</td>\n",
       "      <td>PINE EAGLE SD 61</td>\n",
       "      <td>14808.47</td>\n",
       "      <td>BAKER</td>\n",
       "    </tr>\n",
       "    <tr>\n",
       "      <th>216</th>\n",
       "      <td>1897</td>\n",
       "      <td>PINE-EAGLE SCH DIST 061</td>\n",
       "      <td>11780.16</td>\n",
       "      <td>BAKER</td>\n",
       "    </tr>\n",
       "    <tr>\n",
       "      <th>31</th>\n",
       "      <td>1898</td>\n",
       "      <td>MONROE SCH DIST 1J</td>\n",
       "      <td>7345.39</td>\n",
       "      <td>BENTON</td>\n",
       "    </tr>\n",
       "    <tr>\n",
       "      <th>317</th>\n",
       "      <td>1898</td>\n",
       "      <td>MONROE SD 1J</td>\n",
       "      <td>10191.02</td>\n",
       "      <td>BENTON</td>\n",
       "    </tr>\n",
       "    <tr>\n",
       "      <th>327</th>\n",
       "      <td>1899</td>\n",
       "      <td>ALSEA SCH DIST 7J</td>\n",
       "      <td>9717.44</td>\n",
       "      <td>BENTON</td>\n",
       "    </tr>\n",
       "  </tbody>\n",
       "</table>\n",
       "</div>"
      ],
      "text/plain": [
       "     District ID          District Number  Operating Cost Per Student  \\\n",
       "141         1894              BAKER SD 5J                     8409.51   \n",
       "285         1894       BAKER SCH DIST 05J                     7075.92   \n",
       "349         1895        HUNTINGTON SD 16J                    16823.34   \n",
       "65          1895  HUNTINGTON SCH DIST 16J                    13959.30   \n",
       "108         1896       BURNT RIVER SD 30J                    18012.26   \n",
       "82          1897         PINE EAGLE SD 61                    14808.47   \n",
       "216         1897  PINE-EAGLE SCH DIST 061                    11780.16   \n",
       "31          1898       MONROE SCH DIST 1J                     7345.39   \n",
       "317         1898             MONROE SD 1J                    10191.02   \n",
       "327         1899        ALSEA SCH DIST 7J                     9717.44   \n",
       "\n",
       "    County Name  \n",
       "141       BAKER  \n",
       "285       BAKER  \n",
       "349       BAKER  \n",
       "65        BAKER  \n",
       "108       BAKER  \n",
       "82        BAKER  \n",
       "216       BAKER  \n",
       "31       BENTON  \n",
       "317      BENTON  \n",
       "327      BENTON  "
      ]
     },
     "execution_count": 4,
     "metadata": {},
     "output_type": "execute_result"
    }
   ],
   "source": [
    "# convert all operating cost to int with the dollar sign\n",
    "df['Operating Cost Per Student'] = pd.to_numeric(df['Operating Cost Per Student'].str.replace(\"$\", \"\"))\n",
    "\n",
    "# uppercase all district numbers and country names\n",
    "df['District Number'] = map(lambda x: x.upper(), df['District Number'])\n",
    "df['County Name'] = map(lambda x: x.upper(), df['County Name'])\n",
    "\n",
    "# display the top 10 rows \n",
    "df.sort_values('District ID').head(10)"
   ]
  },
  {
   "cell_type": "markdown",
   "metadata": {},
   "source": [
    "## Understand the layout of the data"
   ]
  },
  {
   "cell_type": "code",
   "execution_count": 5,
   "metadata": {
    "collapsed": false
   },
   "outputs": [
    {
     "data": {
      "text/html": [
       "<div>\n",
       "<table border=\"1\" class=\"dataframe\">\n",
       "  <thead>\n",
       "    <tr style=\"text-align: right;\">\n",
       "      <th></th>\n",
       "      <th>District ID</th>\n",
       "      <th>Operating Cost Per Student</th>\n",
       "    </tr>\n",
       "  </thead>\n",
       "  <tbody>\n",
       "    <tr>\n",
       "      <th>count</th>\n",
       "      <td>375.000000</td>\n",
       "      <td>375.000000</td>\n",
       "    </tr>\n",
       "    <tr>\n",
       "      <th>mean</th>\n",
       "      <td>2103.752000</td>\n",
       "      <td>9890.432587</td>\n",
       "    </tr>\n",
       "    <tr>\n",
       "      <th>std</th>\n",
       "      <td>229.622568</td>\n",
       "      <td>5521.077780</td>\n",
       "    </tr>\n",
       "    <tr>\n",
       "      <th>min</th>\n",
       "      <td>1894.000000</td>\n",
       "      <td>0.000000</td>\n",
       "    </tr>\n",
       "    <tr>\n",
       "      <th>25%</th>\n",
       "      <td>1998.000000</td>\n",
       "      <td>7210.860000</td>\n",
       "    </tr>\n",
       "    <tr>\n",
       "      <th>50%</th>\n",
       "      <td>2086.000000</td>\n",
       "      <td>8412.660000</td>\n",
       "    </tr>\n",
       "    <tr>\n",
       "      <th>75%</th>\n",
       "      <td>2191.000000</td>\n",
       "      <td>10416.580000</td>\n",
       "    </tr>\n",
       "    <tr>\n",
       "      <th>max</th>\n",
       "      <td>4131.000000</td>\n",
       "      <td>65107.600000</td>\n",
       "    </tr>\n",
       "  </tbody>\n",
       "</table>\n",
       "</div>"
      ],
      "text/plain": [
       "       District ID  Operating Cost Per Student\n",
       "count   375.000000                  375.000000\n",
       "mean   2103.752000                 9890.432587\n",
       "std     229.622568                 5521.077780\n",
       "min    1894.000000                    0.000000\n",
       "25%    1998.000000                 7210.860000\n",
       "50%    2086.000000                 8412.660000\n",
       "75%    2191.000000                10416.580000\n",
       "max    4131.000000                65107.600000"
      ]
     },
     "execution_count": 5,
     "metadata": {},
     "output_type": "execute_result"
    }
   ],
   "source": [
    "# describe() will get you a summary of the numerical fields \n",
    "df.describe()"
   ]
  },
  {
   "cell_type": "code",
   "execution_count": 6,
   "metadata": {
    "collapsed": false
   },
   "outputs": [
    {
     "data": {
      "text/plain": [
       "LANE          30\n",
       "DOUGLAS       27\n",
       "MARION        19\n",
       "CLACKAMAS     19\n",
       "MALHEUR       18\n",
       "UMATILLA      18\n",
       "JACKSON       17\n",
       "HARNEY        16\n",
       "MULTNOMAH     15\n",
       "YAMHILL       15\n",
       "LINN          14\n",
       "WASHINGTON    13\n",
       "COOS          12\n",
       "UNION         11\n",
       "LAKE          10\n",
       "GRANT         10\n",
       "COLUMBIA       9\n",
       "POLK           8\n",
       "BENTON         8\n",
       "WALLOWA        8\n",
       "JEFFERSON      8\n",
       "CLATSOP        8\n",
       "BAKER          7\n",
       "DESCHUTES      7\n",
       "WASCO          7\n",
       "WHEELER        6\n",
       "CURRY          6\n",
       "TILLAMOOK      6\n",
       "JOSEPHINE      4\n",
       "MORROW         4\n",
       "GILLIAM        4\n",
       "KLAMATH        3\n",
       "CROOK          2\n",
       "SHERMAN        2\n",
       "LINCOLN        2\n",
       "HOOD RIVER     2\n",
       "Name: County Name, dtype: int64"
      ]
     },
     "execution_count": 6,
     "metadata": {},
     "output_type": "execute_result"
    }
   ],
   "source": [
    "# counts of number of districts per county \n",
    "df['County Name'].value_counts()"
   ]
  },
  {
   "cell_type": "markdown",
   "metadata": {},
   "source": [
    "## Operating Cost Per Student by County Median"
   ]
  },
  {
   "cell_type": "code",
   "execution_count": 14,
   "metadata": {
    "collapsed": false
   },
   "outputs": [
    {
     "data": {
      "text/html": [
       "<div>\n",
       "<table border=\"1\" class=\"dataframe\">\n",
       "  <thead>\n",
       "    <tr style=\"text-align: right;\">\n",
       "      <th></th>\n",
       "      <th>County Name</th>\n",
       "      <th>District ID</th>\n",
       "      <th>Operating Cost Per Student</th>\n",
       "    </tr>\n",
       "  </thead>\n",
       "  <tbody>\n",
       "    <tr>\n",
       "      <th>0</th>\n",
       "      <td>BAKER</td>\n",
       "      <td>1895.0</td>\n",
       "      <td>13959.300</td>\n",
       "    </tr>\n",
       "    <tr>\n",
       "      <th>1</th>\n",
       "      <td>BENTON</td>\n",
       "      <td>1899.5</td>\n",
       "      <td>7702.525</td>\n",
       "    </tr>\n",
       "    <tr>\n",
       "      <th>2</th>\n",
       "      <td>CLACKAMAS</td>\n",
       "      <td>1927.0</td>\n",
       "      <td>7253.620</td>\n",
       "    </tr>\n",
       "    <tr>\n",
       "      <th>3</th>\n",
       "      <td>CLATSOP</td>\n",
       "      <td>1934.5</td>\n",
       "      <td>8527.500</td>\n",
       "    </tr>\n",
       "    <tr>\n",
       "      <th>4</th>\n",
       "      <td>COLUMBIA</td>\n",
       "      <td>1946.0</td>\n",
       "      <td>7221.340</td>\n",
       "    </tr>\n",
       "  </tbody>\n",
       "</table>\n",
       "</div>"
      ],
      "text/plain": [
       "  County Name  District ID  Operating Cost Per Student\n",
       "0       BAKER       1895.0                   13959.300\n",
       "1      BENTON       1899.5                    7702.525\n",
       "2   CLACKAMAS       1927.0                    7253.620\n",
       "3     CLATSOP       1934.5                    8527.500\n",
       "4    COLUMBIA       1946.0                    7221.340"
      ]
     },
     "execution_count": 14,
     "metadata": {},
     "output_type": "execute_result"
    }
   ],
   "source": [
    "# median = middle value of a range of values \n",
    "county_medians = df.groupby(['County Name']).median()\n",
    "county_medians = county_medians.reset_index()\n",
    "county_medians.head()"
   ]
  },
  {
   "cell_type": "code",
   "execution_count": null,
   "metadata": {
    "collapsed": true
   },
   "outputs": [],
   "source": []
  },
  {
   "cell_type": "markdown",
   "metadata": {},
   "source": [
    "# WIP"
   ]
  },
  {
   "cell_type": "code",
   "execution_count": 9,
   "metadata": {
    "collapsed": false
   },
   "outputs": [
    {
     "data": {
      "image/png": "[encoded data removed]",
      "text/plain": [
       "<matplotlib.figure.Figure at 0x10e600a50>"
      ]
     },
     "metadata": {},
     "output_type": "display_data"
    }
   ],
   "source": [
    "df['Operating Cost Per Student'].hist(bins=300)\n",
    "plt.show()"
   ]
  },
  {
   "cell_type": "code",
   "execution_count": 8,
   "metadata": {
    "collapsed": false
   },
   "outputs": [
    {
     "data": {
      "image/png": "[encoded data removed]",
      "text/plain": [
       "<matplotlib.figure.Figure at 0x10e4d8850>"
      ]
     },
     "metadata": {},
     "output_type": "display_data"
    }
   ],
   "source": [
    "# Operating Cost Per Student by County (median) \n",
    "\n",
    "medians['Operating Cost Per Student'].hist(bins=100)\n",
    "\n",
    "\n",
    "# df['Operating Cost Per Student'].hist(bins=100)\n",
    "plt.title(\"Graph of Something\")\n",
    "plt.show()"
   ]
  },
  {
   "cell_type": "code",
   "execution_count": null,
   "metadata": {
    "collapsed": true
   },
   "outputs": [],
   "source": []
  },
  {
   "cell_type": "code",
   "execution_count": null,
   "metadata": {
    "collapsed": true
   },
   "outputs": [],
   "source": []
  },
  {
   "cell_type": "code",
   "execution_count": null,
   "metadata": {
    "collapsed": true
   },
   "outputs": [],
   "source": []
  },
  {
   "cell_type": "code",
   "execution_count": null,
   "metadata": {
    "collapsed": true
   },
   "outputs": [],
   "source": []
  },
  {
   "cell_type": "code",
   "execution_count": null,
   "metadata": {
    "collapsed": true
   },
   "outputs": [],
   "source": []
  },
  {
   "cell_type": "code",
   "execution_count": null,
   "metadata": {
    "collapsed": true
   },
   "outputs": [],
   "source": []
  },
  {
   "cell_type": "code",
   "execution_count": null,
   "metadata": {
    "collapsed": true
   },
   "outputs": [],
   "source": []
  },
  {
   "cell_type": "code",
   "execution_count": null,
   "metadata": {
    "collapsed": true
   },
   "outputs": [],
   "source": []
  },
  {
   "cell_type": "code",
   "execution_count": null,
   "metadata": {
    "collapsed": true
   },
   "outputs": [],
   "source": []
  },
  {
   "cell_type": "code",
   "execution_count": null,
   "metadata": {
    "collapsed": true
   },
   "outputs": [],
   "source": []
  },
  {
   "cell_type": "code",
   "execution_count": null,
   "metadata": {
    "collapsed": true
   },
   "outputs": [],
   "source": []
  },
  {
   "cell_type": "code",
   "execution_count": 10,
   "metadata": {
    "collapsed": false,
    "scrolled": false
   },
   "outputs": [
    {
     "data": {
      "image/png": "[encoded data removed]",
      "text/plain": [
       "<matplotlib.figure.Figure at 0x10ea370d0>"
      ]
     },
     "metadata": {},
     "output_type": "display_data"
    }
   ],
   "source": [
    "plt.figure(figsize=(16,6))\n",
    "df['Operating Cost Per Student'].hist(bins=100)\n",
    "plt.show()"
   ]
  },
  {
   "cell_type": "code",
   "execution_count": 11,
   "metadata": {
    "collapsed": false
   },
   "outputs": [
    {
     "data": {
      "image/png": "[encoded data removed]",
      "text/plain": [
       "<matplotlib.figure.Figure at 0x10f126b90>"
      ]
     },
     "metadata": {},
     "output_type": "display_data"
    }
   ],
   "source": [
    "plt.figure(figsize=(16,6))\n",
    "medians['Operating Cost Per Student'].hist(bins=100)\n",
    "plt.show()"
   ]
  },
  {
   "cell_type": "code",
   "execution_count": 12,
   "metadata": {
    "collapsed": false
   },
   "outputs": [
    {
     "data": {
      "text/html": [
       "<div>\n",
       "<table border=\"1\" class=\"dataframe\">\n",
       "  <thead>\n",
       "    <tr style=\"text-align: right;\">\n",
       "      <th></th>\n",
       "      <th>District ID</th>\n",
       "      <th>Operating Cost Per Student</th>\n",
       "    </tr>\n",
       "  </thead>\n",
       "  <tbody>\n",
       "    <tr>\n",
       "      <th>count</th>\n",
       "      <td>36.000000</td>\n",
       "      <td>36.000000</td>\n",
       "    </tr>\n",
       "    <tr>\n",
       "      <th>mean</th>\n",
       "      <td>2105.611111</td>\n",
       "      <td>9406.959583</td>\n",
       "    </tr>\n",
       "    <tr>\n",
       "      <th>std</th>\n",
       "      <td>198.629235</td>\n",
       "      <td>2367.612832</td>\n",
       "    </tr>\n",
       "    <tr>\n",
       "      <th>min</th>\n",
       "      <td>1895.000000</td>\n",
       "      <td>7208.550000</td>\n",
       "    </tr>\n",
       "    <tr>\n",
       "      <th>25%</th>\n",
       "      <td>1991.250000</td>\n",
       "      <td>7815.347500</td>\n",
       "    </tr>\n",
       "    <tr>\n",
       "      <th>50%</th>\n",
       "      <td>2059.000000</td>\n",
       "      <td>8583.772500</td>\n",
       "    </tr>\n",
       "    <tr>\n",
       "      <th>75%</th>\n",
       "      <td>2195.750000</td>\n",
       "      <td>9959.988750</td>\n",
       "    </tr>\n",
       "    <tr>\n",
       "      <th>max</th>\n",
       "      <td>3072.000000</td>\n",
       "      <td>15539.195000</td>\n",
       "    </tr>\n",
       "  </tbody>\n",
       "</table>\n",
       "</div>"
      ],
      "text/plain": [
       "       District ID  Operating Cost Per Student\n",
       "count    36.000000                   36.000000\n",
       "mean   2105.611111                 9406.959583\n",
       "std     198.629235                 2367.612832\n",
       "min    1895.000000                 7208.550000\n",
       "25%    1991.250000                 7815.347500\n",
       "50%    2059.000000                 8583.772500\n",
       "75%    2195.750000                 9959.988750\n",
       "max    3072.000000                15539.195000"
      ]
     },
     "execution_count": 12,
     "metadata": {},
     "output_type": "execute_result"
    }
   ],
   "source": [
    "medians.describe()"
   ]
  },
  {
   "cell_type": "code",
   "execution_count": 13,
   "metadata": {
    "collapsed": false
   },
   "outputs": [
    {
     "data": {
      "text/html": [
       "<div>\n",
       "<table border=\"1\" class=\"dataframe\">\n",
       "  <thead>\n",
       "    <tr style=\"text-align: right;\">\n",
       "      <th></th>\n",
       "      <th>County Name</th>\n",
       "      <th>District ID</th>\n",
       "      <th>Operating Cost Per Student</th>\n",
       "    </tr>\n",
       "  </thead>\n",
       "  <tbody>\n",
       "    <tr>\n",
       "      <th>21</th>\n",
       "      <td>LINN</td>\n",
       "      <td>2102.0</td>\n",
       "      <td>7208.550</td>\n",
       "    </tr>\n",
       "    <tr>\n",
       "      <th>4</th>\n",
       "      <td>COLUMBIA</td>\n",
       "      <td>1946.0</td>\n",
       "      <td>7221.340</td>\n",
       "    </tr>\n",
       "    <tr>\n",
       "      <th>33</th>\n",
       "      <td>WASHINGTON</td>\n",
       "      <td>2242.0</td>\n",
       "      <td>7231.140</td>\n",
       "    </tr>\n",
       "    <tr>\n",
       "      <th>2</th>\n",
       "      <td>CLACKAMAS</td>\n",
       "      <td>1927.0</td>\n",
       "      <td>7253.620</td>\n",
       "    </tr>\n",
       "    <tr>\n",
       "      <th>35</th>\n",
       "      <td>YAMHILL</td>\n",
       "      <td>2254.0</td>\n",
       "      <td>7299.350</td>\n",
       "    </tr>\n",
       "    <tr>\n",
       "      <th>16</th>\n",
       "      <td>JOSEPHINE</td>\n",
       "      <td>2054.5</td>\n",
       "      <td>7622.290</td>\n",
       "    </tr>\n",
       "    <tr>\n",
       "      <th>1</th>\n",
       "      <td>BENTON</td>\n",
       "      <td>1899.5</td>\n",
       "      <td>7702.525</td>\n",
       "    </tr>\n",
       "    <tr>\n",
       "      <th>6</th>\n",
       "      <td>CROOK</td>\n",
       "      <td>1970.0</td>\n",
       "      <td>7728.730</td>\n",
       "    </tr>\n",
       "    <tr>\n",
       "      <th>8</th>\n",
       "      <td>DESCHUTES</td>\n",
       "      <td>1977.0</td>\n",
       "      <td>7765.540</td>\n",
       "    </tr>\n",
       "    <tr>\n",
       "      <th>14</th>\n",
       "      <td>JACKSON</td>\n",
       "      <td>2044.0</td>\n",
       "      <td>7831.950</td>\n",
       "    </tr>\n",
       "  </tbody>\n",
       "</table>\n",
       "</div>"
      ],
      "text/plain": [
       "   County Name  District ID  Operating Cost Per Student\n",
       "21        LINN       2102.0                    7208.550\n",
       "4     COLUMBIA       1946.0                    7221.340\n",
       "33  WASHINGTON       2242.0                    7231.140\n",
       "2    CLACKAMAS       1927.0                    7253.620\n",
       "35     YAMHILL       2254.0                    7299.350\n",
       "16   JOSEPHINE       2054.5                    7622.290\n",
       "1       BENTON       1899.5                    7702.525\n",
       "6        CROOK       1970.0                    7728.730\n",
       "8    DESCHUTES       1977.0                    7765.540\n",
       "14     JACKSON       2044.0                    7831.950"
      ]
     },
     "execution_count": 13,
     "metadata": {},
     "output_type": "execute_result"
    }
   ],
   "source": [
    "medians.sort_values('Operating Cost Per Student').head(10)"
   ]
  },
  {
   "cell_type": "code",
   "execution_count": null,
   "metadata": {
    "collapsed": true
   },
   "outputs": [],
   "source": []
  }
 ],
 "metadata": {
  "kernelspec": {
   "display_name": "Python 2",
   "language": "python",
   "name": "python2"
  },
  "language_info": {
   "codemirror_mode": {
    "name": "ipython",
    "version": 2
   },
   "file_extension": ".py",
   "mimetype": "text/x-python",
   "name": "python",
   "nbconvert_exporter": "python",
   "pygments_lexer": "ipython2",
   "version": "2.7.10"
  }
 },
 "nbformat": 4,
 "nbformat_minor": 1
}
