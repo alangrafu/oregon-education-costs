{
 "cells": [
  {
   "cell_type": "code",
   "execution_count": 1,
   "metadata": {
    "collapsed": true
   },
   "outputs": [],
   "source": [
    "import pandas as pd"
   ]
  },
  {
   "cell_type": "code",
   "execution_count": 2,
   "metadata": {
    "collapsed": true
   },
   "outputs": [],
   "source": [
    "df = pd.read_csv(\"/Users/agraves/Downloads/Average_Cost_Per_Student_by_District.csv\")"
   ]
  },
  {
   "cell_type": "code",
   "execution_count": 15,
   "metadata": {
    "collapsed": false
   },
   "outputs": [],
   "source": [
    "df['Operating Cost Per Student'] = pd.to_numeric(df['Operating Cost Per Student'].str.replace(\"$\", \"\"))"
   ]
  },
  {
   "cell_type": "code",
   "execution_count": 20,
   "metadata": {
    "collapsed": false
   },
   "outputs": [
    {
     "data": {
      "text/html": [
       "<div>\n",
       "<table border=\"1\" class=\"dataframe\">\n",
       "  <thead>\n",
       "    <tr style=\"text-align: right;\">\n",
       "      <th></th>\n",
       "      <th>District ID</th>\n",
       "      <th>Operating Cost Per Student</th>\n",
       "    </tr>\n",
       "  </thead>\n",
       "  <tbody>\n",
       "    <tr>\n",
       "      <th>count</th>\n",
       "      <td>375.000000</td>\n",
       "      <td>375.000000</td>\n",
       "    </tr>\n",
       "    <tr>\n",
       "      <th>mean</th>\n",
       "      <td>2103.752000</td>\n",
       "      <td>9890.432587</td>\n",
       "    </tr>\n",
       "    <tr>\n",
       "      <th>std</th>\n",
       "      <td>229.622568</td>\n",
       "      <td>5521.077780</td>\n",
       "    </tr>\n",
       "    <tr>\n",
       "      <th>min</th>\n",
       "      <td>1894.000000</td>\n",
       "      <td>0.000000</td>\n",
       "    </tr>\n",
       "    <tr>\n",
       "      <th>25%</th>\n",
       "      <td>1998.000000</td>\n",
       "      <td>7210.860000</td>\n",
       "    </tr>\n",
       "    <tr>\n",
       "      <th>50%</th>\n",
       "      <td>2086.000000</td>\n",
       "      <td>8412.660000</td>\n",
       "    </tr>\n",
       "    <tr>\n",
       "      <th>75%</th>\n",
       "      <td>2191.000000</td>\n",
       "      <td>10416.580000</td>\n",
       "    </tr>\n",
       "    <tr>\n",
       "      <th>max</th>\n",
       "      <td>4131.000000</td>\n",
       "      <td>65107.600000</td>\n",
       "    </tr>\n",
       "  </tbody>\n",
       "</table>\n",
       "</div>"
      ],
      "text/plain": [
       "       District ID  Operating Cost Per Student\n",
       "count   375.000000                  375.000000\n",
       "mean   2103.752000                 9890.432587\n",
       "std     229.622568                 5521.077780\n",
       "min    1894.000000                    0.000000\n",
       "25%    1998.000000                 7210.860000\n",
       "50%    2086.000000                 8412.660000\n",
       "75%    2191.000000                10416.580000\n",
       "max    4131.000000                65107.600000"
      ]
     },
     "execution_count": 20,
     "metadata": {},
     "output_type": "execute_result"
    }
   ],
   "source": [
    "df.describe()"
   ]
  },
  {
   "cell_type": "code",
   "execution_count": 28,
   "metadata": {
    "collapsed": false
   },
   "outputs": [],
   "source": [
    "import matplotlib.pyplot as plt"
   ]
  },
  {
   "cell_type": "code",
   "execution_count": 44,
   "metadata": {
    "collapsed": false,
    "scrolled": false
   },
   "outputs": [
    {
     "data": {
      "image/png": "[encoded data removed]",
      "text/plain": [
       "<matplotlib.figure.Figure at 0x10b548850>"
      ]
     },
     "metadata": {},
     "output_type": "display_data"
    }
   ],
   "source": [
    "plt.figure(figsize=(16,6))\n",
    "df['Operating Cost Per Student'].hist(bins=100)\n",
    "plt.show()"
   ]
  },
  {
   "cell_type": "code",
   "execution_count": 45,
   "metadata": {
    "collapsed": false
   },
   "outputs": [
    {
     "data": {
      "text/html": [
       "<div>\n",
       "<table border=\"1\" class=\"dataframe\">\n",
       "  <thead>\n",
       "    <tr style=\"text-align: right;\">\n",
       "      <th></th>\n",
       "      <th>District ID</th>\n",
       "      <th>District Number</th>\n",
       "      <th>Operating Cost Per Student</th>\n",
       "      <th>County Name</th>\n",
       "    </tr>\n",
       "  </thead>\n",
       "  <tbody>\n",
       "    <tr>\n",
       "      <th>0</th>\n",
       "      <td>2110</td>\n",
       "      <td>NYSSA SCH DIST 26</td>\n",
       "      <td>7595.11</td>\n",
       "      <td>MALHEUR</td>\n",
       "    </tr>\n",
       "    <tr>\n",
       "      <th>1</th>\n",
       "      <td>2107</td>\n",
       "      <td>JORDAN VALLEY SCH DIST 3</td>\n",
       "      <td>11777.23</td>\n",
       "      <td>MALHEUR</td>\n",
       "    </tr>\n",
       "    <tr>\n",
       "      <th>2</th>\n",
       "      <td>1922</td>\n",
       "      <td>West Linn-Wilsonville SD 3J</td>\n",
       "      <td>7253.62</td>\n",
       "      <td>CLACKAMAS</td>\n",
       "    </tr>\n",
       "    <tr>\n",
       "      <th>3</th>\n",
       "      <td>2139</td>\n",
       "      <td>Cascade SD 5</td>\n",
       "      <td>7400.23</td>\n",
       "      <td>MARION</td>\n",
       "    </tr>\n",
       "    <tr>\n",
       "      <th>4</th>\n",
       "      <td>1990</td>\n",
       "      <td>Oakland SD 1</td>\n",
       "      <td>9104.14</td>\n",
       "      <td>DOUGLAS</td>\n",
       "    </tr>\n",
       "  </tbody>\n",
       "</table>\n",
       "</div>"
      ],
      "text/plain": [
       "   District ID              District Number  Operating Cost Per Student  \\\n",
       "0         2110            NYSSA SCH DIST 26                     7595.11   \n",
       "1         2107     JORDAN VALLEY SCH DIST 3                    11777.23   \n",
       "2         1922  West Linn-Wilsonville SD 3J                     7253.62   \n",
       "3         2139                 Cascade SD 5                     7400.23   \n",
       "4         1990                 Oakland SD 1                     9104.14   \n",
       "\n",
       "  County Name  \n",
       "0     MALHEUR  \n",
       "1     MALHEUR  \n",
       "2   CLACKAMAS  \n",
       "3      MARION  \n",
       "4     DOUGLAS  "
      ]
     },
     "execution_count": 45,
     "metadata": {},
     "output_type": "execute_result"
    }
   ],
   "source": [
    "df.head()"
   ]
  },
  {
   "cell_type": "code",
   "execution_count": 52,
   "metadata": {
    "collapsed": false
   },
   "outputs": [],
   "source": [
    "medians = df.groupby(['County Name']).median()\n",
    "medians = medians.reset_index()"
   ]
  },
  {
   "cell_type": "code",
   "execution_count": 53,
   "metadata": {
    "collapsed": false
   },
   "outputs": [
    {
     "data": {
      "text/html": [
       "<div>\n",
       "<table border=\"1\" class=\"dataframe\">\n",
       "  <thead>\n",
       "    <tr style=\"text-align: right;\">\n",
       "      <th></th>\n",
       "      <th>County Name</th>\n",
       "      <th>District ID</th>\n",
       "      <th>Operating Cost Per Student</th>\n",
       "    </tr>\n",
       "  </thead>\n",
       "  <tbody>\n",
       "    <tr>\n",
       "      <th>0</th>\n",
       "      <td>BAKER</td>\n",
       "      <td>1895.0</td>\n",
       "      <td>13959.300</td>\n",
       "    </tr>\n",
       "    <tr>\n",
       "      <th>1</th>\n",
       "      <td>BENTON</td>\n",
       "      <td>1899.5</td>\n",
       "      <td>7702.525</td>\n",
       "    </tr>\n",
       "    <tr>\n",
       "      <th>2</th>\n",
       "      <td>CLACKAMAS</td>\n",
       "      <td>1927.0</td>\n",
       "      <td>7253.620</td>\n",
       "    </tr>\n",
       "    <tr>\n",
       "      <th>3</th>\n",
       "      <td>CLATSOP</td>\n",
       "      <td>1934.5</td>\n",
       "      <td>8527.500</td>\n",
       "    </tr>\n",
       "    <tr>\n",
       "      <th>4</th>\n",
       "      <td>COLUMBIA</td>\n",
       "      <td>1946.0</td>\n",
       "      <td>7221.340</td>\n",
       "    </tr>\n",
       "  </tbody>\n",
       "</table>\n",
       "</div>"
      ],
      "text/plain": [
       "  County Name  District ID  Operating Cost Per Student\n",
       "0       BAKER       1895.0                   13959.300\n",
       "1      BENTON       1899.5                    7702.525\n",
       "2   CLACKAMAS       1927.0                    7253.620\n",
       "3     CLATSOP       1934.5                    8527.500\n",
       "4    COLUMBIA       1946.0                    7221.340"
      ]
     },
     "execution_count": 53,
     "metadata": {},
     "output_type": "execute_result"
    }
   ],
   "source": [
    "medians.head()"
   ]
  },
  {
   "cell_type": "code",
   "execution_count": 54,
   "metadata": {
    "collapsed": false
   },
   "outputs": [
    {
     "data": {
      "image/png": "[encoded data removed]",
      "text/plain": [
       "<matplotlib.figure.Figure at 0x10b378e90>"
      ]
     },
     "metadata": {},
     "output_type": "display_data"
    }
   ],
   "source": [
    "plt.figure(figsize=(16,6))\n",
    "medians['Operating Cost Per Student'].hist(bins=100)\n",
    "plt.show()"
   ]
  },
  {
   "cell_type": "code",
   "execution_count": 55,
   "metadata": {
    "collapsed": false
   },
   "outputs": [
    {
     "data": {
      "text/html": [
       "<div>\n",
       "<table border=\"1\" class=\"dataframe\">\n",
       "  <thead>\n",
       "    <tr style=\"text-align: right;\">\n",
       "      <th></th>\n",
       "      <th>District ID</th>\n",
       "      <th>Operating Cost Per Student</th>\n",
       "    </tr>\n",
       "  </thead>\n",
       "  <tbody>\n",
       "    <tr>\n",
       "      <th>count</th>\n",
       "      <td>36.000000</td>\n",
       "      <td>36.000000</td>\n",
       "    </tr>\n",
       "    <tr>\n",
       "      <th>mean</th>\n",
       "      <td>2105.611111</td>\n",
       "      <td>9406.959583</td>\n",
       "    </tr>\n",
       "    <tr>\n",
       "      <th>std</th>\n",
       "      <td>198.629235</td>\n",
       "      <td>2367.612832</td>\n",
       "    </tr>\n",
       "    <tr>\n",
       "      <th>min</th>\n",
       "      <td>1895.000000</td>\n",
       "      <td>7208.550000</td>\n",
       "    </tr>\n",
       "    <tr>\n",
       "      <th>25%</th>\n",
       "      <td>1991.250000</td>\n",
       "      <td>7815.347500</td>\n",
       "    </tr>\n",
       "    <tr>\n",
       "      <th>50%</th>\n",
       "      <td>2059.000000</td>\n",
       "      <td>8583.772500</td>\n",
       "    </tr>\n",
       "    <tr>\n",
       "      <th>75%</th>\n",
       "      <td>2195.750000</td>\n",
       "      <td>9959.988750</td>\n",
       "    </tr>\n",
       "    <tr>\n",
       "      <th>max</th>\n",
       "      <td>3072.000000</td>\n",
       "      <td>15539.195000</td>\n",
       "    </tr>\n",
       "  </tbody>\n",
       "</table>\n",
       "</div>"
      ],
      "text/plain": [
       "       District ID  Operating Cost Per Student\n",
       "count    36.000000                   36.000000\n",
       "mean   2105.611111                 9406.959583\n",
       "std     198.629235                 2367.612832\n",
       "min    1895.000000                 7208.550000\n",
       "25%    1991.250000                 7815.347500\n",
       "50%    2059.000000                 8583.772500\n",
       "75%    2195.750000                 9959.988750\n",
       "max    3072.000000                15539.195000"
      ]
     },
     "execution_count": 55,
     "metadata": {},
     "output_type": "execute_result"
    }
   ],
   "source": [
    "medians.describe()"
   ]
  },
  {
   "cell_type": "code",
   "execution_count": 61,
   "metadata": {
    "collapsed": false
   },
   "outputs": [
    {
     "data": {
      "text/html": [
       "<div>\n",
       "<table border=\"1\" class=\"dataframe\">\n",
       "  <thead>\n",
       "    <tr style=\"text-align: right;\">\n",
       "      <th></th>\n",
       "      <th>County Name</th>\n",
       "      <th>District ID</th>\n",
       "      <th>Operating Cost Per Student</th>\n",
       "    </tr>\n",
       "  </thead>\n",
       "  <tbody>\n",
       "    <tr>\n",
       "      <th>21</th>\n",
       "      <td>LINN</td>\n",
       "      <td>2102.0</td>\n",
       "      <td>7208.550</td>\n",
       "    </tr>\n",
       "    <tr>\n",
       "      <th>4</th>\n",
       "      <td>COLUMBIA</td>\n",
       "      <td>1946.0</td>\n",
       "      <td>7221.340</td>\n",
       "    </tr>\n",
       "    <tr>\n",
       "      <th>33</th>\n",
       "      <td>WASHINGTON</td>\n",
       "      <td>2242.0</td>\n",
       "      <td>7231.140</td>\n",
       "    </tr>\n",
       "    <tr>\n",
       "      <th>2</th>\n",
       "      <td>CLACKAMAS</td>\n",
       "      <td>1927.0</td>\n",
       "      <td>7253.620</td>\n",
       "    </tr>\n",
       "    <tr>\n",
       "      <th>35</th>\n",
       "      <td>YAMHILL</td>\n",
       "      <td>2254.0</td>\n",
       "      <td>7299.350</td>\n",
       "    </tr>\n",
       "    <tr>\n",
       "      <th>16</th>\n",
       "      <td>JOSEPHINE</td>\n",
       "      <td>2054.5</td>\n",
       "      <td>7622.290</td>\n",
       "    </tr>\n",
       "    <tr>\n",
       "      <th>1</th>\n",
       "      <td>BENTON</td>\n",
       "      <td>1899.5</td>\n",
       "      <td>7702.525</td>\n",
       "    </tr>\n",
       "    <tr>\n",
       "      <th>6</th>\n",
       "      <td>CROOK</td>\n",
       "      <td>1970.0</td>\n",
       "      <td>7728.730</td>\n",
       "    </tr>\n",
       "    <tr>\n",
       "      <th>8</th>\n",
       "      <td>DESCHUTES</td>\n",
       "      <td>1977.0</td>\n",
       "      <td>7765.540</td>\n",
       "    </tr>\n",
       "    <tr>\n",
       "      <th>14</th>\n",
       "      <td>JACKSON</td>\n",
       "      <td>2044.0</td>\n",
       "      <td>7831.950</td>\n",
       "    </tr>\n",
       "    <tr>\n",
       "      <th>23</th>\n",
       "      <td>MARION</td>\n",
       "      <td>2142.0</td>\n",
       "      <td>7931.160</td>\n",
       "    </tr>\n",
       "    <tr>\n",
       "      <th>26</th>\n",
       "      <td>POLK</td>\n",
       "      <td>2191.5</td>\n",
       "      <td>7932.915</td>\n",
       "    </tr>\n",
       "    <tr>\n",
       "      <th>25</th>\n",
       "      <td>MULTNOMAH</td>\n",
       "      <td>2183.0</td>\n",
       "      <td>8086.230</td>\n",
       "    </tr>\n",
       "    <tr>\n",
       "      <th>13</th>\n",
       "      <td>HOOD RIVER</td>\n",
       "      <td>2024.0</td>\n",
       "      <td>8226.190</td>\n",
       "    </tr>\n",
       "    <tr>\n",
       "      <th>19</th>\n",
       "      <td>LANE</td>\n",
       "      <td>2088.5</td>\n",
       "      <td>8273.730</td>\n",
       "    </tr>\n",
       "    <tr>\n",
       "      <th>29</th>\n",
       "      <td>UMATILLA</td>\n",
       "      <td>2205.5</td>\n",
       "      <td>8344.130</td>\n",
       "    </tr>\n",
       "    <tr>\n",
       "      <th>9</th>\n",
       "      <td>DOUGLAS</td>\n",
       "      <td>1996.0</td>\n",
       "      <td>8469.250</td>\n",
       "    </tr>\n",
       "    <tr>\n",
       "      <th>3</th>\n",
       "      <td>CLATSOP</td>\n",
       "      <td>1934.5</td>\n",
       "      <td>8527.500</td>\n",
       "    </tr>\n",
       "    <tr>\n",
       "      <th>20</th>\n",
       "      <td>LINCOLN</td>\n",
       "      <td>2097.0</td>\n",
       "      <td>8640.045</td>\n",
       "    </tr>\n",
       "    <tr>\n",
       "      <th>7</th>\n",
       "      <td>CURRY</td>\n",
       "      <td>1973.0</td>\n",
       "      <td>8642.660</td>\n",
       "    </tr>\n",
       "    <tr>\n",
       "      <th>30</th>\n",
       "      <td>UNION</td>\n",
       "      <td>2215.0</td>\n",
       "      <td>8683.690</td>\n",
       "    </tr>\n",
       "    <tr>\n",
       "      <th>28</th>\n",
       "      <td>TILLAMOOK</td>\n",
       "      <td>2198.0</td>\n",
       "      <td>8976.855</td>\n",
       "    </tr>\n",
       "    <tr>\n",
       "      <th>5</th>\n",
       "      <td>COOS</td>\n",
       "      <td>1966.5</td>\n",
       "      <td>9006.450</td>\n",
       "    </tr>\n",
       "    <tr>\n",
       "      <th>31</th>\n",
       "      <td>WALLOWA</td>\n",
       "      <td>2220.5</td>\n",
       "      <td>9147.185</td>\n",
       "    </tr>\n",
       "    <tr>\n",
       "      <th>32</th>\n",
       "      <td>WASCO</td>\n",
       "      <td>2227.0</td>\n",
       "      <td>9170.380</td>\n",
       "    </tr>\n",
       "    <tr>\n",
       "      <th>17</th>\n",
       "      <td>KLAMATH</td>\n",
       "      <td>2057.0</td>\n",
       "      <td>9203.170</td>\n",
       "    </tr>\n",
       "    <tr>\n",
       "      <th>22</th>\n",
       "      <td>MALHEUR</td>\n",
       "      <td>2111.0</td>\n",
       "      <td>9894.160</td>\n",
       "    </tr>\n",
       "    <tr>\n",
       "      <th>15</th>\n",
       "      <td>JEFFERSON</td>\n",
       "      <td>2051.5</td>\n",
       "      <td>10157.475</td>\n",
       "    </tr>\n",
       "    <tr>\n",
       "      <th>24</th>\n",
       "      <td>MORROW</td>\n",
       "      <td>3072.0</td>\n",
       "      <td>10319.525</td>\n",
       "    </tr>\n",
       "    <tr>\n",
       "      <th>27</th>\n",
       "      <td>SHERMAN</td>\n",
       "      <td>2195.0</td>\n",
       "      <td>12070.480</td>\n",
       "    </tr>\n",
       "    <tr>\n",
       "      <th>18</th>\n",
       "      <td>LAKE</td>\n",
       "      <td>2061.0</td>\n",
       "      <td>12142.265</td>\n",
       "    </tr>\n",
       "    <tr>\n",
       "      <th>11</th>\n",
       "      <td>GRANT</td>\n",
       "      <td>2010.0</td>\n",
       "      <td>13116.500</td>\n",
       "    </tr>\n",
       "    <tr>\n",
       "      <th>10</th>\n",
       "      <td>GILLIAM</td>\n",
       "      <td>2005.5</td>\n",
       "      <td>13829.220</td>\n",
       "    </tr>\n",
       "    <tr>\n",
       "      <th>0</th>\n",
       "      <td>BAKER</td>\n",
       "      <td>1895.0</td>\n",
       "      <td>13959.300</td>\n",
       "    </tr>\n",
       "    <tr>\n",
       "      <th>12</th>\n",
       "      <td>HARNEY</td>\n",
       "      <td>2018.0</td>\n",
       "      <td>15495.850</td>\n",
       "    </tr>\n",
       "    <tr>\n",
       "      <th>34</th>\n",
       "      <td>WHEELER</td>\n",
       "      <td>2248.0</td>\n",
       "      <td>15539.195</td>\n",
       "    </tr>\n",
       "  </tbody>\n",
       "</table>\n",
       "</div>"
      ],
      "text/plain": [
       "   County Name  District ID  Operating Cost Per Student\n",
       "21        LINN       2102.0                    7208.550\n",
       "4     COLUMBIA       1946.0                    7221.340\n",
       "33  WASHINGTON       2242.0                    7231.140\n",
       "2    CLACKAMAS       1927.0                    7253.620\n",
       "35     YAMHILL       2254.0                    7299.350\n",
       "16   JOSEPHINE       2054.5                    7622.290\n",
       "1       BENTON       1899.5                    7702.525\n",
       "6        CROOK       1970.0                    7728.730\n",
       "8    DESCHUTES       1977.0                    7765.540\n",
       "14     JACKSON       2044.0                    7831.950\n",
       "23      MARION       2142.0                    7931.160\n",
       "26        POLK       2191.5                    7932.915\n",
       "25   MULTNOMAH       2183.0                    8086.230\n",
       "13  HOOD RIVER       2024.0                    8226.190\n",
       "19        LANE       2088.5                    8273.730\n",
       "29    UMATILLA       2205.5                    8344.130\n",
       "9      DOUGLAS       1996.0                    8469.250\n",
       "3      CLATSOP       1934.5                    8527.500\n",
       "20     LINCOLN       2097.0                    8640.045\n",
       "7        CURRY       1973.0                    8642.660\n",
       "30       UNION       2215.0                    8683.690\n",
       "28   TILLAMOOK       2198.0                    8976.855\n",
       "5         COOS       1966.5                    9006.450\n",
       "31     WALLOWA       2220.5                    9147.185\n",
       "32       WASCO       2227.0                    9170.380\n",
       "17     KLAMATH       2057.0                    9203.170\n",
       "22     MALHEUR       2111.0                    9894.160\n",
       "15   JEFFERSON       2051.5                   10157.475\n",
       "24      MORROW       3072.0                   10319.525\n",
       "27     SHERMAN       2195.0                   12070.480\n",
       "18        LAKE       2061.0                   12142.265\n",
       "11       GRANT       2010.0                   13116.500\n",
       "10     GILLIAM       2005.5                   13829.220\n",
       "0        BAKER       1895.0                   13959.300\n",
       "12      HARNEY       2018.0                   15495.850\n",
       "34     WHEELER       2248.0                   15539.195"
      ]
     },
     "execution_count": 61,
     "metadata": {},
     "output_type": "execute_result"
    }
   ],
   "source": [
    "medians.sort_values('Operating Cost Per Student')"
   ]
  },
  {
   "cell_type": "code",
   "execution_count": null,
   "metadata": {
    "collapsed": true
   },
   "outputs": [],
   "source": []
  }
 ],
 "metadata": {
  "kernelspec": {
   "display_name": "Python 2",
   "language": "python",
   "name": "python2"
  },
  "language_info": {
   "codemirror_mode": {
    "name": "ipython",
    "version": 2
   },
   "file_extension": ".py",
   "mimetype": "text/x-python",
   "name": "python",
   "nbconvert_exporter": "python",
   "pygments_lexer": "ipython2",
   "version": "2.7.10"
  }
 },
 "nbformat": 4,
 "nbformat_minor": 1
}
